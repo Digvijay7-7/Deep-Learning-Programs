{
  "cells": [
    {
      "cell_type": "markdown",
      "metadata": {
        "id": "qK5_Jsd7lpzN"
      },
      "source": [
        "# **Experiment No. 3**\n",
        "# *Data Preprocessing, reading the dataset, handling missing data, conversion to tensor format*"
      ]
    },
    {
      "cell_type": "markdown",
      "metadata": {
        "id": "GLndDmP7mRoM"
      },
      "source": [
        "## Data Preprocessing\n",
        "> Data preprocessing is a crucial step in preparing data for analysis or machine learning. It involves tasks like reading datasets, handling missing data, and converting data to a suitable format, often tensors, for efficient computation. Here's how you can approach these tasks:"
      ]
    },
    {
      "cell_type": "markdown",
      "metadata": {
        "id": "rmeh7_kvmZm3"
      },
      "source": [
        "### Reading the dataset\n",
        "> Reading a dataset is the first step. The choice of library depends on the dataset format (CSV, Excel, etc.). The pandas library is commonly used for reading structured data."
      ]
    },
    {
      "cell_type": "code",
      "execution_count": 1,
      "metadata": {
        "colab": {
          "base_uri": "https://localhost:8080/",
          "height": 206
        },
        "id": "FmQW67rrmige",
        "outputId": "6728fd15-2beb-4b3d-a7e6-1fc0d311daff"
      },
      "outputs": [
        {
          "output_type": "execute_result",
          "data": {
            "text/plain": [
              "   R&D Spend  Administration  Marketing Spend     Profit\n",
              "0  165349.20       136897.80        471784.10  192261.83\n",
              "1  162597.70       151377.59        443898.53        NaN\n",
              "2        NaN       101145.55        407934.54  191050.39\n",
              "3  144372.41       118671.85        383199.62  182901.99\n",
              "4  142107.34        91391.77              NaN  166187.94"
            ],
            "text/html": [
              "\n",
              "  <div id=\"df-37477b22-6da9-478a-8b91-f13eab0145c8\" class=\"colab-df-container\">\n",
              "    <div>\n",
              "<style scoped>\n",
              "    .dataframe tbody tr th:only-of-type {\n",
              "        vertical-align: middle;\n",
              "    }\n",
              "\n",
              "    .dataframe tbody tr th {\n",
              "        vertical-align: top;\n",
              "    }\n",
              "\n",
              "    .dataframe thead th {\n",
              "        text-align: right;\n",
              "    }\n",
              "</style>\n",
              "<table border=\"1\" class=\"dataframe\">\n",
              "  <thead>\n",
              "    <tr style=\"text-align: right;\">\n",
              "      <th></th>\n",
              "      <th>R&amp;D Spend</th>\n",
              "      <th>Administration</th>\n",
              "      <th>Marketing Spend</th>\n",
              "      <th>Profit</th>\n",
              "    </tr>\n",
              "  </thead>\n",
              "  <tbody>\n",
              "    <tr>\n",
              "      <th>0</th>\n",
              "      <td>165349.20</td>\n",
              "      <td>136897.80</td>\n",
              "      <td>471784.10</td>\n",
              "      <td>192261.83</td>\n",
              "    </tr>\n",
              "    <tr>\n",
              "      <th>1</th>\n",
              "      <td>162597.70</td>\n",
              "      <td>151377.59</td>\n",
              "      <td>443898.53</td>\n",
              "      <td>NaN</td>\n",
              "    </tr>\n",
              "    <tr>\n",
              "      <th>2</th>\n",
              "      <td>NaN</td>\n",
              "      <td>101145.55</td>\n",
              "      <td>407934.54</td>\n",
              "      <td>191050.39</td>\n",
              "    </tr>\n",
              "    <tr>\n",
              "      <th>3</th>\n",
              "      <td>144372.41</td>\n",
              "      <td>118671.85</td>\n",
              "      <td>383199.62</td>\n",
              "      <td>182901.99</td>\n",
              "    </tr>\n",
              "    <tr>\n",
              "      <th>4</th>\n",
              "      <td>142107.34</td>\n",
              "      <td>91391.77</td>\n",
              "      <td>NaN</td>\n",
              "      <td>166187.94</td>\n",
              "    </tr>\n",
              "  </tbody>\n",
              "</table>\n",
              "</div>\n",
              "    <div class=\"colab-df-buttons\">\n",
              "\n",
              "  <div class=\"colab-df-container\">\n",
              "    <button class=\"colab-df-convert\" onclick=\"convertToInteractive('df-37477b22-6da9-478a-8b91-f13eab0145c8')\"\n",
              "            title=\"Convert this dataframe to an interactive table.\"\n",
              "            style=\"display:none;\">\n",
              "\n",
              "  <svg xmlns=\"http://www.w3.org/2000/svg\" height=\"24px\" viewBox=\"0 -960 960 960\">\n",
              "    <path d=\"M120-120v-720h720v720H120Zm60-500h600v-160H180v160Zm220 220h160v-160H400v160Zm0 220h160v-160H400v160ZM180-400h160v-160H180v160Zm440 0h160v-160H620v160ZM180-180h160v-160H180v160Zm440 0h160v-160H620v160Z\"/>\n",
              "  </svg>\n",
              "    </button>\n",
              "\n",
              "  <style>\n",
              "    .colab-df-container {\n",
              "      display:flex;\n",
              "      gap: 12px;\n",
              "    }\n",
              "\n",
              "    .colab-df-convert {\n",
              "      background-color: #E8F0FE;\n",
              "      border: none;\n",
              "      border-radius: 50%;\n",
              "      cursor: pointer;\n",
              "      display: none;\n",
              "      fill: #1967D2;\n",
              "      height: 32px;\n",
              "      padding: 0 0 0 0;\n",
              "      width: 32px;\n",
              "    }\n",
              "\n",
              "    .colab-df-convert:hover {\n",
              "      background-color: #E2EBFA;\n",
              "      box-shadow: 0px 1px 2px rgba(60, 64, 67, 0.3), 0px 1px 3px 1px rgba(60, 64, 67, 0.15);\n",
              "      fill: #174EA6;\n",
              "    }\n",
              "\n",
              "    .colab-df-buttons div {\n",
              "      margin-bottom: 4px;\n",
              "    }\n",
              "\n",
              "    [theme=dark] .colab-df-convert {\n",
              "      background-color: #3B4455;\n",
              "      fill: #D2E3FC;\n",
              "    }\n",
              "\n",
              "    [theme=dark] .colab-df-convert:hover {\n",
              "      background-color: #434B5C;\n",
              "      box-shadow: 0px 1px 3px 1px rgba(0, 0, 0, 0.15);\n",
              "      filter: drop-shadow(0px 1px 2px rgba(0, 0, 0, 0.3));\n",
              "      fill: #FFFFFF;\n",
              "    }\n",
              "  </style>\n",
              "\n",
              "    <script>\n",
              "      const buttonEl =\n",
              "        document.querySelector('#df-37477b22-6da9-478a-8b91-f13eab0145c8 button.colab-df-convert');\n",
              "      buttonEl.style.display =\n",
              "        google.colab.kernel.accessAllowed ? 'block' : 'none';\n",
              "\n",
              "      async function convertToInteractive(key) {\n",
              "        const element = document.querySelector('#df-37477b22-6da9-478a-8b91-f13eab0145c8');\n",
              "        const dataTable =\n",
              "          await google.colab.kernel.invokeFunction('convertToInteractive',\n",
              "                                                    [key], {});\n",
              "        if (!dataTable) return;\n",
              "\n",
              "        const docLinkHtml = 'Like what you see? Visit the ' +\n",
              "          '<a target=\"_blank\" href=https://colab.research.google.com/notebooks/data_table.ipynb>data table notebook</a>'\n",
              "          + ' to learn more about interactive tables.';\n",
              "        element.innerHTML = '';\n",
              "        dataTable['output_type'] = 'display_data';\n",
              "        await google.colab.output.renderOutput(dataTable, element);\n",
              "        const docLink = document.createElement('div');\n",
              "        docLink.innerHTML = docLinkHtml;\n",
              "        element.appendChild(docLink);\n",
              "      }\n",
              "    </script>\n",
              "  </div>\n",
              "\n",
              "\n",
              "<div id=\"df-ca5b713a-d24a-4da9-90aa-d0bdc5856cfe\">\n",
              "  <button class=\"colab-df-quickchart\" onclick=\"quickchart('df-ca5b713a-d24a-4da9-90aa-d0bdc5856cfe')\"\n",
              "            title=\"Suggest charts\"\n",
              "            style=\"display:none;\">\n",
              "\n",
              "<svg xmlns=\"http://www.w3.org/2000/svg\" height=\"24px\"viewBox=\"0 0 24 24\"\n",
              "     width=\"24px\">\n",
              "    <g>\n",
              "        <path d=\"M19 3H5c-1.1 0-2 .9-2 2v14c0 1.1.9 2 2 2h14c1.1 0 2-.9 2-2V5c0-1.1-.9-2-2-2zM9 17H7v-7h2v7zm4 0h-2V7h2v10zm4 0h-2v-4h2v4z\"/>\n",
              "    </g>\n",
              "</svg>\n",
              "  </button>\n",
              "\n",
              "<style>\n",
              "  .colab-df-quickchart {\n",
              "      --bg-color: #E8F0FE;\n",
              "      --fill-color: #1967D2;\n",
              "      --hover-bg-color: #E2EBFA;\n",
              "      --hover-fill-color: #174EA6;\n",
              "      --disabled-fill-color: #AAA;\n",
              "      --disabled-bg-color: #DDD;\n",
              "  }\n",
              "\n",
              "  [theme=dark] .colab-df-quickchart {\n",
              "      --bg-color: #3B4455;\n",
              "      --fill-color: #D2E3FC;\n",
              "      --hover-bg-color: #434B5C;\n",
              "      --hover-fill-color: #FFFFFF;\n",
              "      --disabled-bg-color: #3B4455;\n",
              "      --disabled-fill-color: #666;\n",
              "  }\n",
              "\n",
              "  .colab-df-quickchart {\n",
              "    background-color: var(--bg-color);\n",
              "    border: none;\n",
              "    border-radius: 50%;\n",
              "    cursor: pointer;\n",
              "    display: none;\n",
              "    fill: var(--fill-color);\n",
              "    height: 32px;\n",
              "    padding: 0;\n",
              "    width: 32px;\n",
              "  }\n",
              "\n",
              "  .colab-df-quickchart:hover {\n",
              "    background-color: var(--hover-bg-color);\n",
              "    box-shadow: 0 1px 2px rgba(60, 64, 67, 0.3), 0 1px 3px 1px rgba(60, 64, 67, 0.15);\n",
              "    fill: var(--button-hover-fill-color);\n",
              "  }\n",
              "\n",
              "  .colab-df-quickchart-complete:disabled,\n",
              "  .colab-df-quickchart-complete:disabled:hover {\n",
              "    background-color: var(--disabled-bg-color);\n",
              "    fill: var(--disabled-fill-color);\n",
              "    box-shadow: none;\n",
              "  }\n",
              "\n",
              "  .colab-df-spinner {\n",
              "    border: 2px solid var(--fill-color);\n",
              "    border-color: transparent;\n",
              "    border-bottom-color: var(--fill-color);\n",
              "    animation:\n",
              "      spin 1s steps(1) infinite;\n",
              "  }\n",
              "\n",
              "  @keyframes spin {\n",
              "    0% {\n",
              "      border-color: transparent;\n",
              "      border-bottom-color: var(--fill-color);\n",
              "      border-left-color: var(--fill-color);\n",
              "    }\n",
              "    20% {\n",
              "      border-color: transparent;\n",
              "      border-left-color: var(--fill-color);\n",
              "      border-top-color: var(--fill-color);\n",
              "    }\n",
              "    30% {\n",
              "      border-color: transparent;\n",
              "      border-left-color: var(--fill-color);\n",
              "      border-top-color: var(--fill-color);\n",
              "      border-right-color: var(--fill-color);\n",
              "    }\n",
              "    40% {\n",
              "      border-color: transparent;\n",
              "      border-right-color: var(--fill-color);\n",
              "      border-top-color: var(--fill-color);\n",
              "    }\n",
              "    60% {\n",
              "      border-color: transparent;\n",
              "      border-right-color: var(--fill-color);\n",
              "    }\n",
              "    80% {\n",
              "      border-color: transparent;\n",
              "      border-right-color: var(--fill-color);\n",
              "      border-bottom-color: var(--fill-color);\n",
              "    }\n",
              "    90% {\n",
              "      border-color: transparent;\n",
              "      border-bottom-color: var(--fill-color);\n",
              "    }\n",
              "  }\n",
              "</style>\n",
              "\n",
              "  <script>\n",
              "    async function quickchart(key) {\n",
              "      const quickchartButtonEl =\n",
              "        document.querySelector('#' + key + ' button');\n",
              "      quickchartButtonEl.disabled = true;  // To prevent multiple clicks.\n",
              "      quickchartButtonEl.classList.add('colab-df-spinner');\n",
              "      try {\n",
              "        const charts = await google.colab.kernel.invokeFunction(\n",
              "            'suggestCharts', [key], {});\n",
              "      } catch (error) {\n",
              "        console.error('Error during call to suggestCharts:', error);\n",
              "      }\n",
              "      quickchartButtonEl.classList.remove('colab-df-spinner');\n",
              "      quickchartButtonEl.classList.add('colab-df-quickchart-complete');\n",
              "    }\n",
              "    (() => {\n",
              "      let quickchartButtonEl =\n",
              "        document.querySelector('#df-ca5b713a-d24a-4da9-90aa-d0bdc5856cfe button');\n",
              "      quickchartButtonEl.style.display =\n",
              "        google.colab.kernel.accessAllowed ? 'block' : 'none';\n",
              "    })();\n",
              "  </script>\n",
              "</div>\n",
              "    </div>\n",
              "  </div>\n"
            ]
          },
          "metadata": {},
          "execution_count": 1
        }
      ],
      "source": [
        "import pandas as pd\n",
        "import numpy as np\n",
        "\n",
        "data=pd.read_csv('/content/exp2dataset.csv')\n",
        "data.head(5)"
      ]
    },
    {
      "cell_type": "markdown",
      "metadata": {
        "id": "4b77j-oVqw2k"
      },
      "source": [
        "### Handling Null values / missing data\n",
        ">Handling null (missing) values is a critical part of data preprocessing, as missing data can negatively impact the quality of analysis or machine learning models. The pandas library in Python provides various methods to handle null values effectively. Here's a detailed explanation of common null value handling techniques in pandas"
      ]
    },
    {
      "cell_type": "code",
      "execution_count": 2,
      "metadata": {
        "colab": {
          "base_uri": "https://localhost:8080/"
        },
        "id": "a72TCiuqq5OU",
        "outputId": "fdce433e-9020-4f0c-ff6d-ba99836f8f00"
      },
      "outputs": [
        {
          "output_type": "stream",
          "name": "stdout",
          "text": [
            "R&D Spend          3\n",
            "Administration     3\n",
            "Marketing Spend    2\n",
            "Profit             2\n",
            "dtype: int64\n"
          ]
        }
      ],
      "source": [
        "# Detecting null values\n",
        "\n",
        "print(data.isnull().sum()) #gives total null values per column"
      ]
    },
    {
      "cell_type": "code",
      "execution_count": 3,
      "metadata": {
        "colab": {
          "base_uri": "https://localhost:8080/"
        },
        "id": "SA4huZKNrR73",
        "outputId": "deaf8dbf-57fd-4cbb-ff71-734f360045f8"
      },
      "outputs": [
        {
          "output_type": "stream",
          "name": "stdout",
          "text": [
            "R&D Spend          0\n",
            "Administration     0\n",
            "Marketing Spend    0\n",
            "Profit             0\n",
            "dtype: int64\n"
          ]
        }
      ],
      "source": [
        "# Removing null values\n",
        "\n",
        "df=data.dropna()  #deletes rows with null value\n",
        "print(df.isnull().sum())"
      ]
    },
    {
      "cell_type": "code",
      "execution_count": 4,
      "metadata": {
        "colab": {
          "base_uri": "https://localhost:8080/"
        },
        "id": "mEFgTmxAr3-u",
        "outputId": "078d2280-e661-41d4-f5b2-4375bc95b2ad"
      },
      "outputs": [
        {
          "output_type": "stream",
          "name": "stdout",
          "text": [
            "        R&D Spend  Administration  Marketing Spend     Profit\n",
            "0   165349.200000   136897.800000    471784.100000  192261.83\n",
            "1   162597.700000   151377.590000    443898.530000  149436.42\n",
            "2   117116.659412   101145.550000    407934.540000  191050.39\n",
            "3   144372.410000   118671.850000    383199.620000  182901.99\n",
            "4   142107.340000    91391.770000    304411.417778  166187.94\n",
            "5   131876.900000    99814.710000    362861.360000  156991.12\n",
            "6   134615.460000   123552.015294    127716.820000  156122.51\n",
            "7   130298.130000   145530.060000    323876.680000  155752.60\n",
            "8   120542.520000   148718.950000    311613.290000  152211.77\n",
            "9   117116.659412   108679.170000    304981.620000  149759.96\n",
            "10  101913.080000   110594.110000    229160.950000  146121.95\n",
            "11  100671.960000    91790.610000    249744.550000  144259.40\n",
            "12   93863.750000   127320.380000    249839.440000  149436.42\n",
            "13   91992.390000   123552.015294    252664.930000  134307.35\n",
            "14  119943.240000   156547.420000    256512.920000  132602.65\n",
            "15  117116.659412   122616.840000    261776.230000  129917.04\n",
            "16   78013.110000   121597.550000    264346.060000  126992.93\n",
            "17   94657.160000   123552.015294    282574.310000  125370.37\n",
            "18   91749.160000   114175.790000    294919.570000  124266.90\n",
            "19   86419.700000   153514.110000    304411.417778  122776.86\n"
          ]
        }
      ],
      "source": [
        "# Imputing Null values with mean\n",
        "imputed_data=data.fillna(data.mean())\n",
        "print(imputed_data)\n"
      ]
    },
    {
      "cell_type": "code",
      "execution_count": 5,
      "metadata": {
        "colab": {
          "base_uri": "https://localhost:8080/"
        },
        "id": "8zziFkQotnNx",
        "outputId": "f6b9ed28-3c53-4a48-eee4-760f4c463e72"
      },
      "outputs": [
        {
          "output_type": "stream",
          "name": "stdout",
          "text": [
            "    R&D Spend  Administration  Marketing Spend     Profit\n",
            "0   165349.20       136897.80        471784.10  192261.83\n",
            "1   162597.70       151377.59        443898.53       0.00\n",
            "2        0.00       101145.55        407934.54  191050.39\n",
            "3   144372.41       118671.85        383199.62  182901.99\n",
            "4   142107.34        91391.77             0.00  166187.94\n",
            "5   131876.90        99814.71        362861.36  156991.12\n",
            "6   134615.46            0.00        127716.82  156122.51\n",
            "7   130298.13       145530.06        323876.68  155752.60\n",
            "8   120542.52       148718.95        311613.29  152211.77\n",
            "9        0.00       108679.17        304981.62  149759.96\n",
            "10  101913.08       110594.11        229160.95  146121.95\n",
            "11  100671.96        91790.61        249744.55  144259.40\n",
            "12   93863.75       127320.38        249839.44       0.00\n",
            "13   91992.39            0.00        252664.93  134307.35\n",
            "14  119943.24       156547.42        256512.92  132602.65\n",
            "15       0.00       122616.84        261776.23  129917.04\n",
            "16   78013.11       121597.55        264346.06  126992.93\n",
            "17   94657.16            0.00        282574.31  125370.37\n",
            "18   91749.16       114175.79        294919.57  124266.90\n",
            "19   86419.70       153514.11             0.00  122776.86\n"
          ]
        }
      ],
      "source": [
        "# Imputing Null values with specific value\n",
        "imputed_data=data.fillna(0)\n",
        "print(imputed_data)"
      ]
    },
    {
      "cell_type": "code",
      "execution_count": 6,
      "metadata": {
        "colab": {
          "base_uri": "https://localhost:8080/"
        },
        "id": "P-39AoQvst4z",
        "outputId": "00048305-b845-4831-864d-777c5807adb6"
      },
      "outputs": [
        {
          "output_type": "stream",
          "name": "stdout",
          "text": [
            "    R&D Spend  Administration  Marketing Spend     Profit\n",
            "0   165349.20       136897.80        471784.10  192261.83\n",
            "1   162597.70       151377.59        443898.53  192261.83\n",
            "2   162597.70       101145.55        407934.54  191050.39\n",
            "3   144372.41       118671.85        383199.62  182901.99\n",
            "4   142107.34        91391.77        383199.62  166187.94\n",
            "5   131876.90        99814.71        362861.36  156991.12\n",
            "6   134615.46        99814.71        127716.82  156122.51\n",
            "7   130298.13       145530.06        323876.68  155752.60\n",
            "8   120542.52       148718.95        311613.29  152211.77\n",
            "9   120542.52       108679.17        304981.62  149759.96\n",
            "10  101913.08       110594.11        229160.95  146121.95\n",
            "11  100671.96        91790.61        249744.55  144259.40\n",
            "12   93863.75       127320.38        249839.44  144259.40\n",
            "13   91992.39       127320.38        252664.93  134307.35\n",
            "14  119943.24       156547.42        256512.92  132602.65\n",
            "15  119943.24       122616.84        261776.23  129917.04\n",
            "16   78013.11       121597.55        264346.06  126992.93\n",
            "17   94657.16       121597.55        282574.31  125370.37\n",
            "18   91749.16       114175.79        294919.57  124266.90\n",
            "19   86419.70       153514.11        294919.57  122776.86\n"
          ]
        }
      ],
      "source": [
        "# Forward fill\n",
        "data_ffill = data.fillna(method='ffill')\n",
        "print(data_ffill)"
      ]
    },
    {
      "cell_type": "code",
      "execution_count": 7,
      "metadata": {
        "colab": {
          "base_uri": "https://localhost:8080/"
        },
        "id": "cXoriWBvt56l",
        "outputId": "afc3baf5-0fd1-4163-a6c5-f61b1d959173"
      },
      "outputs": [
        {
          "output_type": "stream",
          "name": "stdout",
          "text": [
            "    R&D Spend  Administration  Marketing Spend     Profit\n",
            "0   165349.20       136897.80        471784.10  192261.83\n",
            "1   162597.70       151377.59        443898.53  191050.39\n",
            "2   144372.41       101145.55        407934.54  191050.39\n",
            "3   144372.41       118671.85        383199.62  182901.99\n",
            "4   142107.34        91391.77        362861.36  166187.94\n",
            "5   131876.90        99814.71        362861.36  156991.12\n",
            "6   134615.46       145530.06        127716.82  156122.51\n",
            "7   130298.13       145530.06        323876.68  155752.60\n",
            "8   120542.52       148718.95        311613.29  152211.77\n",
            "9   101913.08       108679.17        304981.62  149759.96\n",
            "10  101913.08       110594.11        229160.95  146121.95\n",
            "11  100671.96        91790.61        249744.55  144259.40\n",
            "12   93863.75       127320.38        249839.44  134307.35\n",
            "13   91992.39       156547.42        252664.93  134307.35\n",
            "14  119943.24       156547.42        256512.92  132602.65\n",
            "15   78013.11       122616.84        261776.23  129917.04\n",
            "16   78013.11       121597.55        264346.06  126992.93\n",
            "17   94657.16       114175.79        282574.31  125370.37\n",
            "18   91749.16       114175.79        294919.57  124266.90\n",
            "19   86419.70       153514.11              NaN  122776.86\n"
          ]
        }
      ],
      "source": [
        "# Backward fill\n",
        "data_bfill = data.fillna(method='bfill')\n",
        "print(data_bfill)"
      ]
    },
    {
      "cell_type": "code",
      "source": [
        "# Creating a DataFrame with null values\n",
        "data1 = pd.DataFrame({\n",
        "    'A': [1, 2, np.nan, 4, 5],\n",
        "    'B': [6, np.nan, 8, np.nan, 10]\n",
        "})\n",
        "print(data1)"
      ],
      "metadata": {
        "colab": {
          "base_uri": "https://localhost:8080/"
        },
        "id": "eXBo2j54n8Jc",
        "outputId": "e5925c28-5914-443a-e072-7e98d65cc301"
      },
      "execution_count": 13,
      "outputs": [
        {
          "output_type": "stream",
          "name": "stdout",
          "text": [
            "     A     B\n",
            "0  1.0   6.0\n",
            "1  2.0   NaN\n",
            "2  NaN   8.0\n",
            "3  4.0   NaN\n",
            "4  5.0  10.0\n"
          ]
        }
      ]
    },
    {
      "cell_type": "code",
      "execution_count": 14,
      "metadata": {
        "colab": {
          "base_uri": "https://localhost:8080/"
        },
        "id": "tR8vUW35soK7",
        "outputId": "287a3792-7e1e-4002-a9d2-33bcbe5ece54"
      },
      "outputs": [
        {
          "output_type": "stream",
          "name": "stdout",
          "text": [
            "     A     B\n",
            "0  1.0   6.0\n",
            "1  2.0   7.0\n",
            "2  3.0   8.0\n",
            "3  4.0   9.0\n",
            "4  5.0  10.0\n"
          ]
        }
      ],
      "source": [
        "# Interpolation\n",
        "\n",
        "data_interpolated = data1.interpolate(method='linear')\n",
        "print(data_interpolated)"
      ]
    },
    {
      "cell_type": "markdown",
      "metadata": {
        "id": "43arGalJuQqo"
      },
      "source": [
        "### Conversion to Tensor Format\n",
        "> Tensors are fundamental data structures used for numerical computations, and they play a crucial role in various fields, particularly in machine learning and scientific computing. They are multi-dimensional arrays that can be used to represent data in a structured and efficient way. Here's a bit more detail about tensors and how they are used in different libraries"
      ]
    },
    {
      "cell_type": "markdown",
      "metadata": {
        "id": "wb_glLeUuroF"
      },
      "source": [
        "#### Numpy Tensors\n",
        ">In the numpy library, tensors are implemented as numpy arrays. These arrays can have any number of dimensions and are used for various mathematical and numerical operations."
      ]
    },
    {
      "cell_type": "code",
      "execution_count": 15,
      "metadata": {
        "colab": {
          "base_uri": "https://localhost:8080/"
        },
        "id": "2qlPnuHQuk_b",
        "outputId": "8f91bb0d-2405-4adb-c567-04344bccef62"
      },
      "outputs": [
        {
          "output_type": "stream",
          "name": "stdout",
          "text": [
            "[[ 1.  6.]\n",
            " [ 2.  7.]\n",
            " [ 3.  8.]\n",
            " [ 4.  9.]\n",
            " [ 5. 10.]]\n"
          ]
        }
      ],
      "source": [
        "numpy_tensor=data_interpolated.to_numpy()\n",
        "print(numpy_tensor)"
      ]
    },
    {
      "cell_type": "markdown",
      "metadata": {
        "id": "6I0qO7kpwCOA"
      },
      "source": [
        "#### Tensorflow Tensors\n",
        ">TensorFlow library also uses tensors as the primary data structure for building and training machine learning models."
      ]
    },
    {
      "cell_type": "code",
      "execution_count": 16,
      "metadata": {
        "colab": {
          "base_uri": "https://localhost:8080/"
        },
        "id": "WpkYiJ-EwB38",
        "outputId": "5339afc5-e270-43f5-da02-77fdcd118f14"
      },
      "outputs": [
        {
          "output_type": "stream",
          "name": "stdout",
          "text": [
            "tf.Tensor(\n",
            "[[ 1.  6.]\n",
            " [ 2.  7.]\n",
            " [ 3.  8.]\n",
            " [ 4.  9.]\n",
            " [ 5. 10.]], shape=(5, 2), dtype=float64)\n"
          ]
        }
      ],
      "source": [
        "import tensorflow as tf\n",
        "\n",
        "# Convert DataFrame to TensorFlow tensor\n",
        "tf_tensor = tf.constant(data_interpolated.values)\n",
        "print(tf_tensor)"
      ]
    }
  ],
  "metadata": {
    "colab": {
      "provenance": []
    },
    "kernelspec": {
      "display_name": "Python 3",
      "name": "python3"
    },
    "language_info": {
      "name": "python"
    }
  },
  "nbformat": 4,
  "nbformat_minor": 0
}