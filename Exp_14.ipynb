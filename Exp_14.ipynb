{
  "nbformat": 4,
  "nbformat_minor": 0,
  "metadata": {
    "colab": {
      "provenance": []
    },
    "kernelspec": {
      "name": "python3",
      "display_name": "Python 3"
    },
    "language_info": {
      "name": "python"
    }
  },
  "cells": [
    {
      "cell_type": "code",
      "execution_count": 3,
      "metadata": {
        "colab": {
          "base_uri": "https://localhost:8080/"
        },
        "id": "xu1d8TbzrIZh",
        "outputId": "2ca5c993-1735-4873-9a19-a63ba5218cd0"
      },
      "outputs": [
        {
          "output_type": "stream",
          "name": "stdout",
          "text": [
            "1/1 [==============================] - 2s 2s/step\n",
            "n02206856: bee (0.36)\n",
            "n02279972: monarch (0.24)\n",
            "n02177972: weevil (0.11)\n",
            "n02264363: lacewing (0.10)\n",
            "n02219486: ant (0.02)\n"
          ]
        }
      ],
      "source": [
        "from tensorflow.keras.applications import ResNet50\n",
        "from tensorflow.keras.preprocessing import image\n",
        "from tensorflow.keras.applications.resnet50 import preprocess_input, decode_predictions\n",
        "import numpy as np\n",
        "\n",
        "# Load a pre-trained ResNet50 model\n",
        "model = ResNet50(weights='imagenet')\n",
        "\n",
        "# Define your custom image preprocessing function (for your specific dataset)\n",
        "def preprocess_custom_image(image_path):\n",
        "    # Load and preprocess your custom image\n",
        "    img = image.load_img(image_path, target_size=(224, 224))\n",
        "    x = image.img_to_array(img)\n",
        "    x = np.expand_dims(x, axis=0)\n",
        "    x = preprocess_input(x)\n",
        "    return x\n",
        "\n",
        "# Load and preprocess a custom image for classification\n",
        "custom_image_path = '/content/f.jpg'  # Replace with your image path\n",
        "custom_image = preprocess_custom_image(custom_image_path)\n",
        "\n",
        "# Make predictions using the pre-trained model\n",
        "predictions = model.predict(custom_image)\n",
        "\n",
        "# Decode the predictions to human-readable labels\n",
        "decoded_predictions = decode_predictions(predictions, top=5)[0]\n",
        "\n",
        "# Print the top predicted labels and their associated probabilities\n",
        "for label, description, probability in decoded_predictions:\n",
        "    print(f\"{label}: {description} ({probability:.2f})\")"
      ]
    }
  ]
}