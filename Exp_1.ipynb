{
  "nbformat": 4,
  "nbformat_minor": 0,
  "metadata": {
    "colab": {
      "provenance": []
    },
    "kernelspec": {
      "name": "python3",
      "display_name": "Python 3"
    },
    "language_info": {
      "name": "python"
    }
  },
  "cells": [
    {
      "cell_type": "code",
      "execution_count": 1,
      "metadata": {
        "colab": {
          "base_uri": "https://localhost:8080/"
        },
        "id": "pYvQhf05hjzu",
        "outputId": "f783a9aa-9654-4855-a8f6-64e7dff678d5"
      },
      "outputs": [
        {
          "output_type": "stream",
          "name": "stdout",
          "text": [
            "[1 2 3 4 5 6 7 8 9]\n"
          ]
        }
      ],
      "source": [
        "import numpy as np\n",
        "\n",
        "#create a numpy array\n",
        "arr1=np.arange(1,10)\n",
        "print(arr1)"
      ]
    },
    {
      "cell_type": "code",
      "source": [
        "#Broadcasting\n",
        "b=5\n",
        "result=arr1*b\n",
        "print(result)"
      ],
      "metadata": {
        "colab": {
          "base_uri": "https://localhost:8080/"
        },
        "id": "sQa5HjPrh0pM",
        "outputId": "87bc67ba-2ba9-49b4-febc-9b1633ae498b"
      },
      "execution_count": 5,
      "outputs": [
        {
          "output_type": "stream",
          "name": "stdout",
          "text": [
            "[ 5 10 15 20 25 30 35 40 45]\n"
          ]
        }
      ]
    },
    {
      "cell_type": "code",
      "source": [
        "#indexing\n",
        "arr2 = np.array([10, 20, 30, 40, 50])\n",
        "\n",
        "element = arr2[2]  # Accessing the third element\n",
        "print('element:',element)\n",
        "\n",
        "subset = arr2[1:4]  # Extracting elements from index 1 to 3\n",
        "print('subset',subset)"
      ],
      "metadata": {
        "colab": {
          "base_uri": "https://localhost:8080/"
        },
        "id": "I_H6CCY_h4nq",
        "outputId": "bc1ca705-24ea-4a0f-a2bb-c4d233db1f52"
      },
      "execution_count": 6,
      "outputs": [
        {
          "output_type": "stream",
          "name": "stdout",
          "text": [
            "element: 30\n",
            "subset [20 30 40]\n"
          ]
        }
      ]
    },
    {
      "cell_type": "code",
      "source": [
        "# Slicing example\n",
        "matrix = np.array([[1, 2, 3],\n",
        "                   [4, 5, 6],\n",
        "                   [7, 8, 9]])\n",
        "\n",
        "row_slice = matrix[1, :]  # Extracting the second row\n",
        "print(row_slice)\n",
        "\n",
        "column_slice = matrix[:, 1]  # Extracting the second column\n",
        "print(column_slice)\n",
        "\n",
        "submatrix = matrix[0:2, 1:]  # Extracting a submatrix from rows 1 and 2, and columns 2 and 3\n",
        "print(submatrix)"
      ],
      "metadata": {
        "colab": {
          "base_uri": "https://localhost:8080/"
        },
        "id": "WzRKyJFHh6nV",
        "outputId": "53eebb64-3773-4d55-a68a-d7ece0f5cef6"
      },
      "execution_count": 7,
      "outputs": [
        {
          "output_type": "stream",
          "name": "stdout",
          "text": [
            "[4 5 6]\n",
            "[2 5 8]\n",
            "[[2 3]\n",
            " [5 6]]\n"
          ]
        }
      ]
    },
    {
      "cell_type": "code",
      "source": [],
      "metadata": {
        "id": "w6vjpvi5i0at"
      },
      "execution_count": null,
      "outputs": []
    },
    {
      "cell_type": "code",
      "source": [
        "file_path = '/content/exp2dataset.csv'\n",
        "data = np.genfromtxt(file_path, delimiter=',')\n",
        "\n",
        "# Display the head of the data\n",
        "print(\"Head of the data:\")\n",
        "print(data[1:3])\n",
        "\n",
        "# Display the tail of the data\n",
        "print(\"\\nTail of the data:\")\n",
        "print(data[-2:])\n",
        "\n",
        "# Display the size of the data\n",
        "print(\"\\nSize of the data:\", data.size)"
      ],
      "metadata": {
        "colab": {
          "base_uri": "https://localhost:8080/"
        },
        "id": "VPKQx_hxigl-",
        "outputId": "213e8d25-3871-4a51-880c-5e3b5308200a"
      },
      "execution_count": 16,
      "outputs": [
        {
          "output_type": "stream",
          "name": "stdout",
          "text": [
            "Head of the data:\n",
            "[[165349.2  136897.8  471784.1  192261.83]\n",
            " [162597.7  151377.59 443898.53       nan]]\n",
            "\n",
            "Tail of the data:\n",
            "[[  542.05 51743.15     0.   35673.41]\n",
            " [    0.        nan 45173.06 14681.4 ]]\n",
            "\n",
            "Size of the data: 204\n"
          ]
        }
      ]
    },
    {
      "cell_type": "code",
      "source": [
        "# Remove null values\n",
        "data = np.nan_to_num(data, nan=0)\n",
        "print(\"\\nData after removing null values:\")\n",
        "print(data)"
      ],
      "metadata": {
        "colab": {
          "base_uri": "https://localhost:8080/"
        },
        "id": "ALZ-kYlRkXD1",
        "outputId": "d59f9f7b-3cd2-464c-8c03-57a39ca7adb4"
      },
      "execution_count": 17,
      "outputs": [
        {
          "output_type": "stream",
          "name": "stdout",
          "text": [
            "\n",
            "Data after removing null values:\n",
            "[[     0.        0.        0.        0.  ]\n",
            " [165349.2  136897.8  471784.1  192261.83]\n",
            " [162597.7  151377.59 443898.53      0.  ]\n",
            " [153441.51 101145.55 407934.54 191050.39]\n",
            " [144372.41 118671.85 383199.62 182901.99]\n",
            " [142107.34  91391.77 366168.42 166187.94]\n",
            " [131876.9   99814.71 362861.36 156991.12]\n",
            " [134615.46      0.   127716.82 156122.51]\n",
            " [130298.13 145530.06 323876.68 155752.6 ]\n",
            " [120542.52 148718.95 311613.29 152211.77]\n",
            " [123334.88 108679.17 304981.62 149759.96]\n",
            " [101913.08 110594.11 229160.95 146121.95]\n",
            " [100671.96  91790.61 249744.55 144259.4 ]\n",
            " [ 93863.75 127320.38 249839.44 141585.52]\n",
            " [ 91992.39 135495.07 252664.93 134307.35]\n",
            " [119943.24 156547.42 256512.92 132602.65]\n",
            " [114523.61 122616.84 261776.23 129917.04]\n",
            " [ 78013.11 121597.55 264346.06 126992.93]\n",
            " [ 94657.16 145077.58 282574.31 125370.37]\n",
            " [ 91749.16 114175.79 294919.57 124266.9 ]\n",
            " [ 86419.7  153514.11      0.   122776.86]\n",
            " [ 76253.86 113867.3  298664.47 118474.03]\n",
            " [ 78389.47 153773.43 299737.29 111313.02]\n",
            " [ 73994.56 122782.75 303319.26 110352.25]\n",
            " [ 67532.53 105751.03 304768.73 108733.99]\n",
            " [ 77044.01  99281.34 140574.81 108552.04]\n",
            " [ 64664.71 139553.16 137962.62 107404.34]\n",
            " [ 75328.87      0.   134050.07 105733.54]\n",
            " [ 72107.6  127864.55 353183.81 105008.31]\n",
            " [ 66051.52 182645.56 118148.2  103282.38]\n",
            " [ 65605.48 153032.06 107138.38 101004.64]\n",
            " [ 61994.48 115641.28  91131.24  99937.59]\n",
            " [ 61136.38 152701.92  88218.23  97483.56]\n",
            " [ 63408.86 129219.61  46085.25  97427.84]\n",
            " [ 55493.95 103057.49 214634.81  96778.92]\n",
            " [ 46426.07 157693.92 210797.67  96712.8 ]\n",
            " [ 46014.02  85047.44      0.    96479.51]\n",
            " [ 28663.76 127056.21 201126.82  90708.19]\n",
            " [ 44069.95  51283.14 197029.42  89949.14]\n",
            " [ 20229.59  65947.93 185265.1   81229.06]\n",
            " [     0.    82982.09 174999.3   81005.76]\n",
            " [ 28754.33 118546.05 172795.67  78239.91]\n",
            " [ 27892.92  84710.77 164470.71  77798.83]\n",
            " [ 23640.93  96189.63 148001.11  71498.49]\n",
            " [ 15505.73 127382.3   35534.17  69758.98]\n",
            " [ 22177.74 154806.14  28334.72      0.  ]\n",
            " [  1000.23 124153.04   1903.93  64926.08]\n",
            " [  1315.46 115816.21 297114.46  49490.75]\n",
            " [     0.   135426.92      0.    42559.73]\n",
            " [   542.05  51743.15      0.    35673.41]\n",
            " [     0.        0.    45173.06  14681.4 ]]\n"
          ]
        }
      ]
    }
  ]
}