{
  "cells": [
    {
      "cell_type": "code",
      "execution_count": 2,
      "metadata": {
        "colab": {
          "base_uri": "https://localhost:8080/"
        },
        "id": "AvtVUmupGYT1",
        "outputId": "c21a3481-0533-4147-9dc8-e2a495a2f80e"
      },
      "outputs": [
        {
          "name": "stdout",
          "output_type": "stream",
          "text": [
            "Input Data:\n",
            " [[0 0]\n",
            " [0 1]\n",
            " [1 0]\n",
            " [1 1]]\n",
            "AND Gate Output:\n",
            " [0 0 0 1]\n"
          ]
        }
      ],
      "source": [
        "'''\n",
        "Exp 4, Implement McCulloch Pitts neural network using Tensorflow\n",
        "'''\n",
        "# Implementation of AND gate using M-P Neuron\n",
        "import tensorflow as tf\n",
        "\n",
        "def mcCullochPittsNeuron(input_data,weights,threshold):\n",
        "  weighted_sum=tf.reduce_sum(input_data*weights,axis=1)\n",
        "  output=tf.where(weighted_sum>=threshold,1,0)\n",
        "  return output\n",
        "\n",
        "# Define the input data (truth table for AND gate)\n",
        "input_data = tf.constant([[0, 0], [0, 1], [1, 0], [1, 1]])\n",
        "\n",
        "# Define the weights\n",
        "weights = tf.constant([1, 1])\n",
        "\n",
        "output=mcCullochPittsNeuron(input_data,weights,2)\n",
        "print(\"Input Data:\\n\",input_data.numpy())\n",
        "print(\"AND Gate Output:\\n\",output.numpy())"
      ]
    }
  ],
  "metadata": {
    "colab": {
      "provenance": []
    },
    "kernelspec": {
      "display_name": "Python 3",
      "name": "python3"
    },
    "language_info": {
      "name": "python"
    }
  },
  "nbformat": 4,
  "nbformat_minor": 0
}
