{
  "nbformat": 4,
  "nbformat_minor": 0,
  "metadata": {
    "colab": {
      "provenance": []
    },
    "kernelspec": {
      "name": "python3",
      "display_name": "Python 3"
    },
    "language_info": {
      "name": "python"
    }
  },
  "cells": [
    {
      "cell_type": "code",
      "execution_count": 1,
      "metadata": {
        "colab": {
          "base_uri": "https://localhost:8080/"
        },
        "id": "Gw4Ox69bL7K5",
        "outputId": "e36ad9e1-6853-4979-d20a-8bbc1f7208cc"
      },
      "outputs": [
        {
          "output_type": "stream",
          "name": "stdout",
          "text": [
            "Input: [0 0], Predicted Output: 0\n",
            "Input: [0 1], Predicted Output: 0\n",
            "Input: [1 0], Predicted Output: 0\n",
            "Input: [1 1], Predicted Output: 1\n"
          ]
        }
      ],
      "source": [
        "# Implement feed forward single layer perceptron with suitable example.\n",
        "\n",
        "import numpy as np\n",
        "\n",
        "# Define the AND gate truth table\n",
        "inputs = np.array([[0, 0],\n",
        "                    [0, 1],\n",
        "                    [1, 0],\n",
        "                    [1, 1]])\n",
        "\n",
        "# Corresponding AND gate outputs\n",
        "outputs = np.array([0, 0, 0, 1])\n",
        "\n",
        "# Define the perceptron class\n",
        "class Perceptron:\n",
        "    def __init__(self, input_size):\n",
        "        # Initialize weights and bias\n",
        "        self.weights = np.zeros(input_size)\n",
        "        self.bias = 0\n",
        "\n",
        "    def predict(self, inputs):\n",
        "        # Perform the weighted sum and apply the step function\n",
        "        linear_combination = np.dot(inputs, self.weights) + self.bias\n",
        "        prediction = np.where(linear_combination >= 0, 1, 0)\n",
        "        return prediction\n",
        "\n",
        "    def train(self, inputs, targets, learning_rate=0.1, epochs=100):\n",
        "        for epoch in range(epochs):\n",
        "            for i in range(len(inputs)):\n",
        "                prediction = self.predict(inputs[i])\n",
        "                error = targets[i] - prediction\n",
        "\n",
        "                # Update weights and bias\n",
        "                self.weights += learning_rate * error * inputs[i]\n",
        "                self.bias += learning_rate * error\n",
        "\n",
        "# Create and train the perceptron for the AND gate\n",
        "and_perceptron = Perceptron(input_size=2)\n",
        "and_perceptron.train(inputs, outputs)\n",
        "\n",
        "# Test the trained perceptron\n",
        "test_inputs = np.array([[0, 0], [0, 1], [1, 0], [1, 1]])\n",
        "predictions = [and_perceptron.predict(x) for x in test_inputs]\n",
        "\n",
        "# Display the results\n",
        "for i in range(len(test_inputs)):\n",
        "    print(f\"Input: {test_inputs[i]}, Predicted Output: {predictions[i]}\")\n"
      ]
    }
  ]
}