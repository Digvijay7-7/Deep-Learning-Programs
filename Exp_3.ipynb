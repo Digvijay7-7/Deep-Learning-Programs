{
  "nbformat": 4,
  "nbformat_minor": 0,
  "metadata": {
    "colab": {
      "provenance": []
    },
    "kernelspec": {
      "name": "python3",
      "display_name": "Python 3"
    },
    "language_info": {
      "name": "python"
    }
  },
  "cells": [
    {
      "cell_type": "code",
      "execution_count": 1,
      "metadata": {
        "colab": {
          "base_uri": "https://localhost:8080/"
        },
        "id": "EWGAa4TlomM3",
        "outputId": "814e9396-d973-4ec3-dc3e-a2ac6289360e"
      },
      "outputs": [
        {
          "output_type": "stream",
          "name": "stdout",
          "text": [
            "tensor_a\n",
            " [[1 2]\n",
            " [3 4]]\n",
            "tensor_b\n",
            " [[5 6]\n",
            " [7 8]]\n"
          ]
        }
      ],
      "source": [
        "# Using Numpy\n",
        "import numpy as np\n",
        "# Create tensors (multi-dimensional arrays) using NumPy\n",
        "a = np.array([[1, 2], [3, 4]])\n",
        "b = np.array([[5, 6], [7, 8]])\n",
        "print('tensor_a\\n',a)\n",
        "print('tensor_b\\n',b)"
      ]
    },
    {
      "cell_type": "code",
      "source": [
        "# Addition\n",
        "tensor_sum = a + b\n",
        "print(\"Sum of tensors:\\n\",tensor_sum)\n",
        "\n",
        "# Subtraction\n",
        "tensor_Subtraction = a + b\n",
        "print(\"Subtraction of tensors:\\n\",tensor_Subtraction)\n",
        "\n",
        "# Scalar multiplication\n",
        "scalar = 2\n",
        "tensor_scaled = scalar * a\n",
        "print(\"\\nScalar multiplication:\\n\",tensor_scaled)\n",
        "\n",
        "# Element-wise multiplication\n",
        "tensor_product = np.multiply(a,b) #a*b\n",
        "print(\"\\nElement-wise multiplication:\\n\",tensor_product)\n",
        "\n",
        "#matrix multiplication\n",
        "dot_product=a@b # equivalent to np.dot(a,b)\n",
        "print(\"\\nMatrix multiplication:\\n\",dot_product)"
      ],
      "metadata": {
        "colab": {
          "base_uri": "https://localhost:8080/"
        },
        "id": "qVgQN4j1owIa",
        "outputId": "e96daac1-f27d-4c82-e09c-5a36e1eeedef"
      },
      "execution_count": 2,
      "outputs": [
        {
          "output_type": "stream",
          "name": "stdout",
          "text": [
            "Sum of tensors:\n",
            " [[ 6  8]\n",
            " [10 12]]\n",
            "Subtraction of tensors:\n",
            " [[ 6  8]\n",
            " [10 12]]\n",
            "\n",
            "Scalar multiplication:\n",
            " [[2 4]\n",
            " [6 8]]\n",
            "\n",
            "Element-wise multiplication:\n",
            " [[ 5 12]\n",
            " [21 32]]\n",
            "\n",
            "Matrix multiplication:\n",
            " [[19 22]\n",
            " [43 50]]\n"
          ]
        }
      ]
    },
    {
      "cell_type": "code",
      "source": [
        "# Using Tensorflow\n",
        "import tensorflow as tf\n",
        "\n",
        "# Create tensors using TensorFlow\n",
        "tensor_a = tf.constant([[1, 2], [3, 4]])\n",
        "tensor_b = tf.constant([[5, 6], [7, 8]])\n",
        "\n",
        "# Addition\n",
        "tensor_sum = tf.math.add(tensor_a, tensor_b)\n",
        "print(\"Sum of tensors:\\n\",tensor_sum)\n",
        "\n",
        "# Subtraction\n",
        "tensor_Subtraction = tf.math.subtract(tensor_a, tensor_b)\n",
        "print(\"Subtraction of tensors:\\n\",tensor_Subtraction)\n",
        "\n",
        "# Scalar multiplication\n",
        "scalar = 2\n",
        "tensor_scaled = tf.math.scalar_mul(scalar, tensor_a)\n",
        "print(\"Scalar multiplication:\\n\",tensor_scaled)\n",
        "\n",
        "# Element-wise multiplication\n",
        "tensor_product = tf.math.multiply(tensor_a, tensor_b)\n",
        "print(\"\\nElement-wise multiplication:\\n\",tensor_product)\n",
        "\n",
        "#dot product\n",
        "dot_product = tf.linalg.matmul(tensor_a, tensor_b)\n",
        "print(\"\\nDot Product:\\n\",dot_product)\n",
        "\n"
      ],
      "metadata": {
        "colab": {
          "base_uri": "https://localhost:8080/"
        },
        "id": "a3GQiuLDpL5k",
        "outputId": "e4405c5f-b02c-4782-90a1-448d07b10147"
      },
      "execution_count": 3,
      "outputs": [
        {
          "output_type": "stream",
          "name": "stdout",
          "text": [
            "Sum of tensors:\n",
            " tf.Tensor(\n",
            "[[ 6  8]\n",
            " [10 12]], shape=(2, 2), dtype=int32)\n",
            "Subtraction of tensors:\n",
            " tf.Tensor(\n",
            "[[-4 -4]\n",
            " [-4 -4]], shape=(2, 2), dtype=int32)\n",
            "Scalar multiplication:\n",
            " tf.Tensor(\n",
            "[[2 4]\n",
            " [6 8]], shape=(2, 2), dtype=int32)\n",
            "\n",
            "Element-wise multiplication:\n",
            " tf.Tensor(\n",
            "[[ 5 12]\n",
            " [21 32]], shape=(2, 2), dtype=int32)\n",
            "\n",
            "Dot Product:\n",
            " tf.Tensor(\n",
            "[[19 22]\n",
            " [43 50]], shape=(2, 2), dtype=int32)\n"
          ]
        }
      ]
    }
  ]
}